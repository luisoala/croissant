{
 "cells": [
  {
   "cell_type": "markdown",
   "id": "7d9b6d9c-7a27-472d-843f-879540be4a41",
   "metadata": {},
   "source": [
    "# Croissant 🥐 Universe Explorer - openml\n",
    "\n",
    "This notebook is based on the output produced after crawling openml datasets.\n",
    "\n",
    "We project croissant metadata to text embedding space that can be ingested into visual universe explorer such as in https://github.com/luisoala/croissant-universe-surfer."
   ]
  },
  {
   "cell_type": "markdown",
   "id": "1d409f0e-ec21-4d83-bdab-e629dac80d3b",
   "metadata": {},
   "source": [
    "## bertopic imports (to extract embeddings)"
   ]
  },
  {
   "cell_type": "code",
   "execution_count": 1,
   "id": "c0cdde17-9e1f-423d-816d-3abd88b281bc",
   "metadata": {},
   "outputs": [
    {
     "name": "stderr",
     "output_type": "stream",
     "text": [
      "/home/donald/.local/lib/python3.10/site-packages/tqdm/auto.py:21: TqdmWarning: IProgress not found. Please update jupyter and ipywidgets. See https://ipywidgets.readthedocs.io/en/stable/user_install.html\n",
      "  from .autonotebook import tqdm as notebook_tqdm\n",
      "2024-02-29 22:55:27.866717: I tensorflow/core/util/port.cc:113] oneDNN custom operations are on. You may see slightly different numerical results due to floating-point round-off errors from different computation orders. To turn them off, set the environment variable `TF_ENABLE_ONEDNN_OPTS=0`.\n",
      "2024-02-29 22:55:28.023257: E external/local_xla/xla/stream_executor/cuda/cuda_dnn.cc:9261] Unable to register cuDNN factory: Attempting to register factory for plugin cuDNN when one has already been registered\n",
      "2024-02-29 22:55:28.023397: E external/local_xla/xla/stream_executor/cuda/cuda_fft.cc:607] Unable to register cuFFT factory: Attempting to register factory for plugin cuFFT when one has already been registered\n",
      "2024-02-29 22:55:28.050145: E external/local_xla/xla/stream_executor/cuda/cuda_blas.cc:1515] Unable to register cuBLAS factory: Attempting to register factory for plugin cuBLAS when one has already been registered\n",
      "2024-02-29 22:55:28.108317: I tensorflow/core/platform/cpu_feature_guard.cc:182] This TensorFlow binary is optimized to use available CPU instructions in performance-critical operations.\n",
      "To enable the following instructions: AVX2 AVX_VNNI FMA, in other operations, rebuild TensorFlow with the appropriate compiler flags.\n",
      "2024-02-29 22:55:28.829157: W tensorflow/compiler/tf2tensorrt/utils/py_utils.cc:38] TF-TRT Warning: Could not find TensorRT\n"
     ]
    }
   ],
   "source": [
    "import numpy as np\n",
    "from bertopic import BERTopic\n",
    "from umap import UMAP\n",
    "from sklearn.datasets import fetch_20newsgroups\n",
    "from sentence_transformers import SentenceTransformer"
   ]
  },
  {
   "cell_type": "markdown",
   "id": "7628d90c-daf2-4a2e-b75a-89fb0c001b03",
   "metadata": {},
   "source": [
    "##  croissant imports"
   ]
  },
  {
   "cell_type": "code",
   "execution_count": 2,
   "id": "431cdc43-a15d-4a57-be51-77ef42d7bc23",
   "metadata": {},
   "outputs": [],
   "source": [
    "import sys\n",
    "from etils import epath\n",
    "from IPython.display import Markdown\n",
    "import matplotlib as mpl\n",
    "import matplotlib.pyplot as plt\n",
    "import pandas as pd\n",
    "import polars as pl\n",
    "import seaborn as sns\n",
    "import re\n",
    "sns.set()"
   ]
  },
  {
   "cell_type": "markdown",
   "id": "29994045-0e26-4db2-805b-076f22bb407e",
   "metadata": {},
   "source": [
    "# get croissant descriptions for openml"
   ]
  },
  {
   "cell_type": "code",
   "execution_count": 8,
   "id": "a0a9d54a-0c74-4ba7-bf08-df083a79d852",
   "metadata": {
    "scrolled": true
   },
   "outputs": [],
   "source": [
    "source = \"openml\" \n",
    "folder = epath.Path(\"/home/donald/repos/croissant/health/data\")\n",
    "files = folder.glob(\"*/*.parquet\")"
   ]
  },
  {
   "cell_type": "code",
   "execution_count": 11,
   "id": "6d62c25b-ccdf-4c29-9b6d-34b650bae50e",
   "metadata": {},
   "outputs": [
    {
     "name": "stdout",
     "output_type": "stream",
     "text": [
      "Report for openml\n"
     ]
    }
   ],
   "source": [
    "df = pl.scan_parquet(files).filter(pl.col(\"source\") == source)\n",
    "print(f\"Report for {source}\")"
   ]
  },
  {
   "cell_type": "code",
   "execution_count": 12,
   "id": "37f802ff-1c82-4111-b2a0-0343dcfdaceb",
   "metadata": {},
   "outputs": [
    {
     "data": {
      "text/markdown": [
       "Scrapped 5435 datasets for openml"
      ],
      "text/plain": [
       "<IPython.core.display.Markdown object>"
      ]
     },
     "metadata": {},
     "output_type": "display_data"
    }
   ],
   "source": [
    "sns.set_style(\"white\")\n",
    "num_rows = df.select(pl.len()).collect().item()\n",
    "display(Markdown(f\"Scrapped {num_rows} datasets for {source}\"))\n",
    "body = pl.col(\"body\")"
   ]
  },
  {
   "cell_type": "code",
   "execution_count": 13,
   "id": "26bb4aa8-c1cf-4e9c-a314-33ea55cc97c8",
   "metadata": {},
   "outputs": [],
   "source": [
    "a = np.array(df.collect())"
   ]
  },
  {
   "cell_type": "code",
   "execution_count": 14,
   "id": "0893bb88-e1b1-4242-b663-b0d05ca53dc4",
   "metadata": {},
   "outputs": [
    {
     "name": "stdout",
     "output_type": "stream",
     "text": [
      "(5435, 15)\n"
     ]
    }
   ],
   "source": [
    "print(a.shape)"
   ]
  },
  {
   "cell_type": "code",
   "execution_count": 15,
   "id": "ce091182-e69f-4ab1-884f-1da8344e2430",
   "metadata": {},
   "outputs": [],
   "source": [
    "def extract_first_description_and_all_urls_per_entry(json_strings):\n",
    "    descriptions = []\n",
    "    all_urls = []  # This will be a list of lists\n",
    "    description_pattern = re.compile(r'\"description\": \"(.*?)\"(?=[,}])', re.DOTALL)\n",
    "    url_pattern = re.compile(r'\"url\": \"(.*?)\"(?=[,}])', re.DOTALL)\n",
    "    \n",
    "    for string in json_strings:\n",
    "        # Search for the first description\n",
    "        description_match = description_pattern.search(string)\n",
    "        if description_match:\n",
    "            description = description_match.group(1).encode('utf-8').decode('unicode_escape')\n",
    "            descriptions.append(description)\n",
    "        else:\n",
    "            descriptions.append('No description found')\n",
    "        \n",
    "        # Search for URLs and keep them in a list corresponding to the current string\n",
    "        url_matches = url_pattern.findall(string)\n",
    "        if url_matches:\n",
    "            urls = [match.encode('utf-8').decode('unicode_escape') for match in url_matches]\n",
    "            all_urls.append(urls)  # Append list of URLs for the current entry\n",
    "        else:\n",
    "            all_urls.append(['No URL found'])  # Append a placeholder if no URLs are found\n",
    "    \n",
    "    return descriptions, all_urls"
   ]
  },
  {
   "cell_type": "code",
   "execution_count": 16,
   "id": "57460c3b-a655-4ebb-a43e-22f82868e446",
   "metadata": {},
   "outputs": [],
   "source": [
    "descriptions, urls = extract_first_description_and_all_urls_per_entry([str(x[0]) for x in a]) #get a list of croissant descriptions and urls from the openml crawl dump"
   ]
  },
  {
   "cell_type": "code",
   "execution_count": 17,
   "id": "29b666d5-5893-4e32-88aa-e10f5bd493e7",
   "metadata": {},
   "outputs": [
    {
     "name": "stdout",
     "output_type": "stream",
     "text": [
      "This classic dataset contains the prices and other attributes of almost 54,000 diamonds. It's a great dataset for beginners learning to work with data analysis and visualization.\\n\\nContent\\nprice price in US dollars (\\\\$326--\\\\$18,823)\\n\\ncarat weight of the diamond (0.2--5.01)\\n\\ncut quality of the cut (Fair, Good, Very Good, Premium, Ideal)\\n\\ncolor diamond colour, from J (worst) to D (best)\\n\\nclarity a measurement of how clear the diamond is (I1 (worst), SI2, SI1, VS2, VS1, VVS2, VVS1, IF (best))\\n\\nx length in mm (0--10.74)\\n\\ny width in mm (0--58.9)\\n\\nz depth in mm (0--31.8)\\n\\ndepth total depth percentage = z / mean(x, y) = 2 * z / (x + y) (43--79)\\n\\ntable width of top of diamond relative to widest point (43--95)\n",
      "5435\n",
      "['https://www.openml.org/search?type=data&id=42225']\n",
      "5435\n"
     ]
    }
   ],
   "source": [
    "#sanity checks\n",
    "print(descriptions[0])\n",
    "print(len(descriptions))\n",
    "print(urls[0])\n",
    "print(len(urls))"
   ]
  },
  {
   "cell_type": "markdown",
   "id": "33ed4b43-de67-4e16-bc07-16c1854ecc11",
   "metadata": {},
   "source": [
    "# Embed croissant descriptions"
   ]
  },
  {
   "cell_type": "code",
   "execution_count": 58,
   "id": "1107b99e-5135-4973-a4e3-3a757a8632b5",
   "metadata": {},
   "outputs": [
    {
     "name": "stderr",
     "output_type": "stream",
     "text": [
      "Batches: 100%|███████████████████████████████████████████████████████████████████████████████████████████████████████████████████████████████████████████████████████████████████████████████████████████████████| 170/170 [02:52<00:00,  1.02s/it]\n"
     ]
    }
   ],
   "source": [
    "sentence_model = SentenceTransformer(\"all-MiniLM-L6-v2\")\n",
    "embeddings = sentence_model.encode(descriptions, show_progress_bar=True)"
   ]
  },
  {
   "cell_type": "code",
   "execution_count": 59,
   "id": "dbecbc47-a34d-475c-bc01-6a55ee4da6a8",
   "metadata": {},
   "outputs": [
    {
     "name": "stdout",
     "output_type": "stream",
     "text": [
      "(5435, 384)\n"
     ]
    }
   ],
   "source": [
    "#sanity checks\n",
    "print(embeddings.shape)"
   ]
  },
  {
   "cell_type": "code",
   "execution_count": 67,
   "id": "bb1599d3-da6d-453f-af04-a58d5ce16259",
   "metadata": {},
   "outputs": [],
   "source": [
    "#write embeddings to csv for ingestion to the visual explorer\n",
    "emb = pd.DataFrame(embeddings)\n",
    "first_column = emb.columns[0]\n",
    "# drop first index column\n",
    "emb = emb.drop([first_column], axis=1)\n",
    "emb.to_csv('openmlcroissant_inputs.csv', index=False)"
   ]
  },
  {
   "cell_type": "code",
   "execution_count": 69,
   "id": "a5f33f7a-ecc5-40e7-889c-7b471813be7a",
   "metadata": {},
   "outputs": [],
   "source": [
    "#write corresponding urls to csv for ingestion to the visual explorer\n",
    "urls = pd.DataFrame(urls)\n",
    "urls.to_csv('openmlcroissant_labels.csv', index=False)"
   ]
  },
  {
   "cell_type": "code",
   "execution_count": null,
   "id": "424a75ac-c842-496e-99d4-9d4365002f29",
   "metadata": {},
   "outputs": [],
   "source": [
    "|"
   ]
  }
 ],
 "metadata": {
  "kernelspec": {
   "display_name": "Python 3 (ipykernel)",
   "language": "python",
   "name": "python3"
  },
  "language_info": {
   "codemirror_mode": {
    "name": "ipython",
    "version": 3
   },
   "file_extension": ".py",
   "mimetype": "text/x-python",
   "name": "python",
   "nbconvert_exporter": "python",
   "pygments_lexer": "ipython3",
   "version": "3.10.12"
  }
 },
 "nbformat": 4,
 "nbformat_minor": 5
}
